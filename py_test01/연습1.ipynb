{
 "cells": [
  {
   "cell_type": "code",
   "execution_count": 1,
   "metadata": {},
   "outputs": [
    {
     "name": "stdout",
     "output_type": "stream",
     "text": [
      "c:\\py_test_by_J\\py_test01\n"
     ]
    }
   ],
   "source": [
    "# import 모듈이름 \n",
    "# from 모듈이름 import 원하는함수이름\n",
    "import os\n",
    "print(os.getcwd())"
   ]
  },
  {
   "cell_type": "code",
   "execution_count": 18,
   "metadata": {},
   "outputs": [
    {
     "name": "stdout",
     "output_type": "stream",
     "text": [
      "외부모듈설치\n"
     ]
    }
   ],
   "source": [
    "# 모듈 설치하기\n",
    "\n",
    "# cmd에서 \n",
    "\n",
    "# pip install 모듈이름\n",
    "# pip uninstall 모듈이름\n",
    "# pip install numpy\n",
    "# pip install numpy==버전명\n",
    "# pip uninstall numpy\n",
    "\n",
    "# pip list 확인하기\n",
    "\n",
    "print(\"외부모듈설치\")"
   ]
  },
  {
   "cell_type": "code",
   "execution_count": 2,
   "metadata": {},
   "outputs": [
    {
     "name": "stdout",
     "output_type": "stream",
     "text": [
      "c:\\py_test_by_J\n"
     ]
    }
   ],
   "source": [
    "# 파일 이동시키기\n",
    "os.chdir(\"c:\\py_test_by_J\")\n",
    "print(os.getcwd())"
   ]
  },
  {
   "cell_type": "code",
   "execution_count": 3,
   "metadata": {},
   "outputs": [
    {
     "name": "stdout",
     "output_type": "stream",
     "text": [
      "연습.ipynb\n",
      "연습1.ipynb\n"
     ]
    }
   ],
   "source": [
    "for i  in os.listdir(\"c:\\py_test_by_J\\py_test01\") :\n",
    "    print(i)"
   ]
  },
  {
   "cell_type": "code",
   "execution_count": 4,
   "metadata": {},
   "outputs": [
    {
     "name": "stdout",
     "output_type": "stream",
     "text": [
      "True\n"
     ]
    }
   ],
   "source": [
    "#특정폴더가 존재를 보여준다 있으면 true, 없으면 false\n",
    "print(os.path.exists(\"c:\\py_test_by_J\\py_test01\"))"
   ]
  },
  {
   "cell_type": "code",
   "execution_count": 16,
   "metadata": {},
   "outputs": [],
   "source": [
    "# mkdir(폴더이름)  \n",
    "# 마지막 경로에만 디렉토리(폴더)를 생성 해욤\n",
    "# 이미 있는 경로에만 생성할 수가 있어욤\n",
    "os.mkdir(\"C:\\py_test_by_J\\py_test02\")\n",
    "\n",
    "\n",
    "# makedirs 상위폴더와 하위폴더 동시에 생성할 수 있어욤\n",
    "os.makedirs(\"C:\\py_remove_test\\py_test01\\py_test01\\py_test22\")"
   ]
  },
  {
   "cell_type": "code",
   "execution_count": 17,
   "metadata": {},
   "outputs": [],
   "source": [
    "from os import removedirs\n",
    "\n",
    "os.rmdir(\"C:\\py_test_by_J\\py_test02\")\n",
    "# 하나의 폴더를 삭제해욤\n",
    "\n",
    "removedirs(\"C:\\py_remove_test\\py_test01\\py_test01\\py_test22\")\n",
    "# 드라이브내의 제일 상위 폴더자체를 삭제해욤\n",
    "# 단!!!! 제일 하위 폴더는 비워져 있어야 합니다!!! \n",
    "    # -> \\py_test22"
   ]
  },
  {
   "cell_type": "code",
   "execution_count": null,
   "metadata": {},
   "outputs": [],
   "source": [
    "# t 텍스트 (기본)\n",
    "# b 바이너리\n",
    "# r 읽기\n",
    " \n",
    "# !!!! w 쓰기 -> 무조건 덮어쓰기\n",
    "\n",
    "# !!!! ***** \n",
    "# a 이어쓰기     왠만하면 a로 쓰자!!!!!!!!!!!!!!!!!!\n",
    "# !!!! *****    \n",
    "\n",
    "# + 읽기, 쓰기\n",
    "# \n",
    "# 파일에 내용을 저장하는 순서\n",
    "# open -> write -> close\n",
    "# \n",
    "# #"
   ]
  },
  {
   "cell_type": "code",
   "execution_count": 26,
   "metadata": {},
   "outputs": [],
   "source": [
    "file = open(\"text.txt\",\"at\") #\"파일명\",\"파일어떻게 할거니\"\n",
    "file.write(\"!hello world!\\n\")\n",
    "file.close()                                                             "
   ]
  },
  {
   "cell_type": "code",
   "execution_count": 41,
   "metadata": {},
   "outputs": [
    {
     "data": {
      "text/plain": [
       "<function TextIOWrapper.close()>"
      ]
     },
     "execution_count": 41,
     "metadata": {},
     "output_type": "execute_result"
    }
   ],
   "source": [
    "file = open(\"text2.txt\",\"at\")\n",
    "file.write(\"1.홈런볼\\n2.맛동산\\n3.에이스\\n4.오감자\\n5.꼬깔콘\")\n",
    "file.close"
   ]
  },
  {
   "cell_type": "code",
   "execution_count": 56,
   "metadata": {},
   "outputs": [],
   "source": [
    "f1 = open(\"text2.txt\",\"wt\",encoding=\"utf-8\")\n",
    "f1.write(\"1. 홈런볼\\n\")\n",
    "f1.write(\"2. 맛동산\\n\")\n",
    "f1.write(\"3. 에이스\\n\")\n",
    "f1.write(\"4. 오감자\\n\")\n",
    "f1.write(\"5. 꼬깔콘\\n\")\n",
    "f1.close()"
   ]
  },
  {
   "cell_type": "code",
   "execution_count": 69,
   "metadata": {},
   "outputs": [],
   "source": [
    "#파일들을 반복문으로 생성하기\n",
    "for i in range(4,6):\n",
    "    filename = \"text\"+str(i)+\".tet\"\n",
    "    open(filename, \"w\")"
   ]
  },
  {
   "cell_type": "code",
   "execution_count": 66,
   "metadata": {},
   "outputs": [
    {
     "name": "stdout",
     "output_type": "stream",
     "text": [
      "1. 홈런볼\n",
      "2. 맛동산\n",
      "3. 에이스\n",
      "4. 오감자\n",
      "5. 꼬깔콘\n",
      "\n"
     ]
    }
   ],
   "source": [
    "f1 = open(\"text2.txt\",\"r\",encoding=\"utf-8\")\n",
    "# read() 파일내용 전체를 읽고, 파일 전체 내용을 문자열로 반환해줌.\n",
    "print(f1. read())"
   ]
  },
  {
   "cell_type": "code",
   "execution_count": 67,
   "metadata": {},
   "outputs": [
    {
     "name": "stdout",
     "output_type": "stream",
     "text": [
      "1. 홈런볼\n",
      "\n",
      "2. 맛동산\n",
      "\n"
     ]
    },
    {
     "data": {
      "text/plain": [
       "['3. 에이스\\n', '4. 오감자\\n', '5. 꼬깔콘\\n']"
      ]
     },
     "execution_count": 67,
     "metadata": {},
     "output_type": "execute_result"
    }
   ],
   "source": [
    "f1 = open(\"text2.txt\",\"r\",encoding=\"utf-8\")\n",
    "\n",
    "# readlines () 파일 내용 전체를 읽고, 각 줄은 문자열 형태로 리스트의 요소가 되어 반환됨\n",
    "# readline() 파일의 한줄을 가져와 문자열로 변환. 파일의 포인터는 그다음줄로 이동\n",
    "\n",
    "print(f1.readline())\n",
    "print(f1.readline())\n",
    "f1.readlines()\n",
    "\n",
    "\n"
   ]
  },
  {
   "cell_type": "code",
   "execution_count": 1,
   "metadata": {},
   "outputs": [
    {
     "name": "stdout",
     "output_type": "stream",
     "text": [
      "버림하기 전의 값 : 1.6666666666666667\n",
      "버림하고 난 후의 값 : 1\n"
     ]
    }
   ],
   "source": [
    "import math \n",
    "# trunc() 버림\n",
    "n1 =3\n",
    "n2 =5\n",
    "print(\"버림하기 전의 값 : {}\".format(n2/n1))\n",
    "print(\"버림하고 난 후의 값 : {}\".format(math.trunc(n2/n1)))"
   ]
  },
  {
   "cell_type": "code",
   "execution_count": 10,
   "metadata": {},
   "outputs": [
    {
     "name": "stdout",
     "output_type": "stream",
     "text": [
      "1. 홈런볼\n",
      "2. 맛동산\n",
      "3. 에이스\n",
      "4. 오감자\n",
      "5. 꼬깔콘\n",
      "\n"
     ]
    }
   ],
   "source": [
    "f1 = open(\"text2.txt\", \"r\",encoding=\"utf-8\")\n",
    "# read() 파일내용 전체를 읽고, 파일 전체 내용을 문자열로 반환해줌.\n",
    "print(f1.read())"
   ]
  },
  {
   "cell_type": "code",
   "execution_count": 13,
   "metadata": {},
   "outputs": [
    {
     "name": "stdout",
     "output_type": "stream",
     "text": [
      "['1. 홈런볼\\n', '2. 맛동산\\n', '3. 에이스\\n', '4. 오감자\\n', '5. 꼬깔콘\\n']\n"
     ]
    }
   ],
   "source": [
    "f1 = open(\"text2.txt\", \"r\",encoding=\"utf-8\")\n",
    "# read() 파일내용 전체를 읽고, 파일 전체 내용을 문자열로 반환해줌.\n",
    "# f1.read()\n",
    "# readlines() 파일내용 전체를 읽고, 각 줄은 문자열 형태로 리스트의 요소가 되어 반환됨.\n",
    "print(f1.readlines())"
   ]
  },
  {
   "cell_type": "code",
   "execution_count": 9,
   "metadata": {},
   "outputs": [
    {
     "name": "stdout",
     "output_type": "stream",
     "text": [
      "1. 홈런볼\n",
      "\n",
      "2. 맛동산\n",
      "\n",
      "3. 에이스\n",
      "\n",
      "4. 오감자\n",
      "\n",
      "5. 꼬깔콘\n",
      "\n"
     ]
    }
   ],
   "source": [
    "f1 = open(\"text2.txt\", \"r\",encoding=\"utf-8\")\n",
    "# read() 파일내용 전체를 읽고, 파일 전체 내용을 문자열로 반환해줌.\n",
    "# f1.read()\n",
    "# readlines() 파일내용 전체를 읽고, 각 줄은 문자열 형태로 리스트의 요소가 되어 반환됨.\n",
    "snack = f1.readlines()\n",
    "# print(snack[3])\n",
    "for i in snack:\n",
    "    print(i)\n",
    "# readline() 파일의 한줄을 가져와 문자열로 반환. 파일의 포인터는 그 다음줄로 이동\n",
    "# print(f1.readline()) \n",
    "# print(f1.readline())"
   ]
  },
  {
   "cell_type": "code",
   "execution_count": 70,
   "metadata": {},
   "outputs": [],
   "source": [
    "list1 =[\"사과\",\"배\",\"딸기\",\"수박\"]\n",
    "#리스트로 파일작성하기\n",
    "f4 = open(\"text3.txt\",\"wt\",encoding=\"utf-8\")\n",
    "for i in list1 :\n",
    "    f4.write(str(i)+\"\\n\")\n",
    "f4.close()\n",
    "    "
   ]
  },
  {
   "cell_type": "code",
   "execution_count": null,
   "metadata": {},
   "outputs": [],
   "source": [
    "\n",
    "import math\n",
    "# trunc()\n",
    "n1 = 3\n",
    "n2 = 5\n",
    "print(\"버림하기 전의 값 : {}\".format(n2/n1))\n",
    "print(\"버림하고 난 후의 값 : {}\".format(math.trunc(n2/n1)))"
   ]
  },
  {
   "cell_type": "code",
   "execution_count": null,
   "metadata": {},
   "outputs": [],
   "source": [
    "# ceil() 주어진 숫자보다 큰 가장 가까운 정수\n",
    "cnt = int(input(\"총 몇건의 데이터를 수집할까요? : \"))\n",
    "# 18건의 데이터를 수집받았다고 한다.\n",
    "# 한페이지에 10건의 데이터씩 보여준다.\n",
    "# 이때, 내가 확인해야 할 페이지 수는?\n",
    "pagecnt = math.ceil(cnt/10)\n",
    "print('총 {}페이지까지 데이터를 수집하세요~'.format(pagecnt))"
   ]
  },
  {
   "cell_type": "code",
   "execution_count": null,
   "metadata": {},
   "outputs": [],
   "source": [
    "\n",
    "# floor() 주어진 숫자보다 작고 가장 가까운 정수를 찾아 주는 함수\n",
    "n1 = 1.66\n",
    "n2 = 2.5\n",
    "print(f\"{n2}보다 작으면서 가장 가까운 정수는 {math.floor(n2)}입니다.\")\n",
    "print(\"{}보다 작으면서 가장 가까운 정수는 {}입니다.\".format(n1, math.floor(n1)))"
   ]
  }
 ],
 "metadata": {
  "kernelspec": {
   "display_name": "Python 3.10.5 64-bit",
   "language": "python",
   "name": "python3"
  },
  "language_info": {
   "codemirror_mode": {
    "name": "ipython",
    "version": 3
   },
   "file_extension": ".py",
   "mimetype": "text/x-python",
   "name": "python",
   "nbconvert_exporter": "python",
   "pygments_lexer": "ipython3",
   "version": "3.10.5"
  },
  "orig_nbformat": 4,
  "vscode": {
   "interpreter": {
    "hash": "3196968d684371006099b3d55edeef8ed90365227a30deaef86e5d4aa8519be0"
   }
  }
 },
 "nbformat": 4,
 "nbformat_minor": 2
}
