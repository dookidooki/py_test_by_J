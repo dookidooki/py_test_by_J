{
 "cells": [
  {
   "cell_type": "code",
   "execution_count": 41,
   "metadata": {},
   "outputs": [
    {
     "name": "stdout",
     "output_type": "stream",
     "text": [
      "<Response [200]>\n",
      "<html><head><title>The Dormouse's story</title></head>\n",
      "<body>\n",
      "<p class=\"title\"><b>The Dormouse's story</b></p>\n",
      "\n",
      "<p class=\"story\">Once upon a time there were three little sisters; and their names were\n",
      "<a href=\"http://example.com/elsie\" class=\"sister\" id=\"link1\">Elsie</a>,\n",
      "<a href=\"http://example.com/lacie\" class=\"sister\" id=\"link2\">Lacie</a> and\n",
      "<a href=\"http://example.com/tillie\" class=\"sister\" id=\"link3\">Tillie</a>;\n",
      "and they lived at the bottom of a well.</p>\n",
      "\n",
      "<p class=\"story\">...</p>\n",
      "\n",
      "[<a class=\"sister\" href=\"http://example.com/elsie\" id=\"link1\">Elsie</a>, <a class=\"sister\" href=\"http://example.com/lacie\" id=\"link2\">Lacie</a>, <a class=\"sister\" href=\"http://example.com/tillie\" id=\"link3\">Tillie</a>]\n",
      "1\n",
      "<a class=\"sister\" href=\"http://example.com/lacie\" id=\"link2\">Lacie</a>\n",
      "2\n",
      "Lacie\n",
      "3\n",
      "http://example.com/lacie\n",
      "4\n"
     ]
    }
   ],
   "source": [
    "# find_element_by_id =              id 속성을 사용하여 접근\n",
    "# find_element_by_name =            name 속성을 사용하여 접근\n",
    "# find_element_by_xpath =           xpath 속성을 사용하여 접근\n",
    "# find_element_by_tag_name =        태그를 사용하여 접근\n",
    "# find_element_by_class_nane =      클래스 사용하여 접근\n",
    "# find_element_by_css_selector =    css선택자를 사용하여 접근\n",
    "# 선택자 복사 body > div.container-doc > main > section > div > div.content-article > div.box_g.box_news_issue > ul > li:nth-child(1) > div > div > a\n",
    "\n",
    "import requests as req\n",
    "    #   서버에 요청할 수 있도록 도와주는 library module -> requests\n",
    "from bs4 import BeautifulSoup\n",
    "    #  html 해석기\n",
    "\n",
    "import selenium\n",
    "    #  크롬버전확인 ->  버전에 가까운 크롬드라이버설치  ->  크롬드라이버 경로 파악! \n",
    "\n",
    "request_headers = {\n",
    "    'User-Agent': ('Mozilla/5.0 (Windows NT 10.0;Win64; x64) AppleWebKit/537.36 (KHTML, like Gecko) Chrome/71.0.3578.98Safari/537.36'), }\n",
    "    #   서버가 차단하지 않게 신원정보를 제공하기\n",
    "\n",
    "response = req.get('https://news.naver.com/', headers=request_headers)\n",
    "    # 요청을 저장    #   사이트를 요청\n",
    "print(response)\n",
    "\n",
    "# <Response [200]> -> 서버에 접속하는 것에 성공했다!!!\n",
    "\n",
    "# print(response.text)\n",
    "    #   html 읽어오기\n",
    "html_doc = \"\"\"<html><head><title>The Dormouse's story</title></head>\n",
    "<body>\n",
    "<p class=\"title\"><b>The Dormouse's story</b></p>\n",
    "\n",
    "<p class=\"story\">Once upon a time there were three little sisters; and their names were\n",
    "<a href=\"http://example.com/elsie\" class=\"sister\" id=\"link1\">Elsie</a>,\n",
    "<a href=\"http://example.com/lacie\" class=\"sister\" id=\"link2\">Lacie</a> and\n",
    "<a href=\"http://example.com/tillie\" class=\"sister\" id=\"link3\">Tillie</a>;\n",
    "and they lived at the bottom of a well.</p>\n",
    "\n",
    "<p class=\"story\">...</p>\n",
    "\"\"\"\n",
    "\n",
    "print(html_doc)\n",
    "soup = BeautifulSoup(html_doc, 'html.parser')\n",
    "    # soup을 이용해서 html_doc 문자열을 html parsing 하겠다 -- parsing -> 문자열을 쪼개 구조화\n",
    "        # 구조화된 내용을 soup안에 넣습니다\n",
    "\n",
    "# 가져오기 1. 태그선택, 2. 후손선택, 3. 자식선택, 4. , 5.\n",
    "\n",
    "print(soup.select(\"a\"))\\\n",
    "    # 태그 이름을 이용 선택, 결과를 리스트로 반환!!\n",
    "print(\"1\")\n",
    "alist = soup.select(\"a\")\n",
    "print(alist[1])\n",
    "# 리스트로 만들어서 특정 a태그만 선택하기!\n",
    "print(\"2\")\n",
    "\n",
    "# 텍스트 가져오기\n",
    "print(alist[1].text)\n",
    "print(\"3\")\n",
    "\n",
    "# 속성값 가져오기<태그명 속성명=\"속성값\">\n",
    "print(alist[1][\"href\"])\n",
    "print(\"4\")\n"
   ]
  },
  {
   "cell_type": "code",
   "execution_count": 40,
   "metadata": {},
   "outputs": [
    {
     "name": "stdout",
     "output_type": "stream",
     "text": [
      "\n",
      "                                    최정우, 포항제철소 복구작업 '구슬땀'..\"포스코 저력 보여줄 때\"\n",
      "                                \n"
     ]
    }
   ],
   "source": [
    "from ast import For\n",
    "\n",
    "\n",
    "request_headers = {\n",
    "    'User-Agent': ('Mozilla/5.0 (Windows NT 10.0;Win64; x64) AppleWebKit/537.36 (KHTML, like Gecko) Chrome/71.0.3578.98Safari/537.36'), }\n",
    "#   서버가 차단하지 않게 신원정보를 제공하기\n",
    "response = req.get('https://news.naver.com/', headers=request_headers)\n",
    "# 요청을 저장    #   사이트를 요청\n",
    "\n",
    "\n",
    "html_doc = \"\"\"\n",
    "<a href=\"https://v.daum.net/v/20220918124031099\" class=\"link_txt\" data-tiara-layer=\"article_main\" data-tiara-id=\"20220918124031099\" data-tiara-type=\"harmony\" data-tiara-ordnum=\"1\" data-tiara-custom=\"contentUniqueKey=hamny-20220918124031099&amp;clusterId=5000019,1592314,5590543,5599922,5129558,5201407,5201410,1535746,1691374,5150094&amp;clusterTitle=경제,최정우,[언론사픽] 주요뉴스,[품질검수] 뉴스 필터링,POSCO_주식기사,카테고리별,경제일반,POSCO,경상북도 포항시,경제&amp;keywordType=NONE,INTEREST,NONE,NONE,NONE,NONE,NONE,INTEREST,NONE,NONE\">\n",
    "                                    최정우, 포항제철소 복구작업 '구슬땀'..\"포스코 저력 보여줄 때\"\n",
    "                                </a>\n",
    "\"\"\"\n",
    "soup = BeautifulSoup(html_doc, 'html.parser')\n",
    "alist = soup.select(\"a\")\n",
    "print(alist[0].text)\n",
    "\n",
    "soup = BeautifulSoup(response.text, 'html.parser')\n",
    "title = soup.select('title')\n",
    "\n"
   ]
  },
  {
   "cell_type": "markdown",
   "metadata": {},
   "source": []
  }
 ],
 "metadata": {
  "kernelspec": {
   "display_name": "Python 3.10.5 64-bit",
   "language": "python",
   "name": "python3"
  },
  "language_info": {
   "name": "python",
   "version": "3.10.5"
  },
  "orig_nbformat": 4,
  "vscode": {
   "interpreter": {
    "hash": "3196968d684371006099b3d55edeef8ed90365227a30deaef86e5d4aa8519be0"
   }
  }
 },
 "nbformat": 4,
 "nbformat_minor": 2
}
